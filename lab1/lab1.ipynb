{
 "cells": [
  {
   "cell_type": "markdown",
   "metadata": {},
   "source": [
    "<h1 style=\"font-size:40px;\"><center>Exercise I:<br> Training of simple MLP models\n",
    "</center></h1>\n"
   ]
  },
  {
   "cell_type": "markdown",
   "metadata": {},
   "source": [
    "# Short summary\n",
    "In this exercise you will: \n",
    "\n",
    "* train MLPs and for simple classification and regression problems.\n",
    "* learn how hyper parameters such as learning rate, batch size and number of epochs effect the training.\n",
    "\n",
    "There are 8 questions in this exercise. These 8 questions can be found in three different cells below (see section \"The Different Cells\"). \n",
    "\n",
    "You should write the report of the exercise within this notebook. The details of how to do that can be found below in section \"Writing the report\". Finally before you start:\n",
    "\n",
    "**Deadline for submitting the report: November 26, 13:00 (2021)**\n",
    "\n",
    "## The data\n",
    "We will use two synthetic different data sets in this exercise\n",
    "\n",
    "### syn2\n",
    "The *syn2* dataset represents a binary classification problem. The input data is 2D which allows for an easy visual inspection of the different classes and the decision boundary implemented by the network. The dataset is generated \"on the fly\" each time. Data are generated from various normal distributions. Since they are generated using random numbers it means that each time you generate the data it will be slightly different from next time. You can control this by having a fixed *seed* to the random number generator. The cell \"PlotData\" will plot the *syn2* dataset.\n",
    "\n",
    "### regr1\n",
    "There is also a synthetic regression problem, called *regr1*. It has one input and one output (target) variable. It a cosinus function, with the possibility to add some noise and dampening on the output. Again see the cell \"PlotData\" to look at the dataset.\n",
    "\n",
    "## The exercises\n",
    "There are 8 questions, where the first 6 questions will use the *regr1* dataset and question 7-8 will use *syn2*.\n",
    "\n",
    "## The different 'Cells'\n",
    "This notebook contains several cells with python code, together with the markdown cells (like this one) with only text. Each of the cells with python code has a \"header\" markdown cell with information about the code. The table below provides a short overview of the code cells. \n",
    "\n",
    "| #  |  CellName | CellType | Comment |\n",
    "| :--- | :-------- | :-------- | :------- |\n",
    "| 1 | Init | Needed | Sets up the environment|\n",
    "| 2 | MLP | Needed | Defines the MLP model |\n",
    "| 3 | Data | Needed | Defines the functions to generate the artificial datasets |\n",
    "| 4 | PlotData | Information | Plots the 2D classification datasets |\n",
    "| 5 | Statistics | Needed | Defines the functions that calculates various performance measures |\n",
    "| 6 | Boundary | Needed | Function that can show 2D classification boundaries | \n",
    "| 7 | Ex1 | Exercise | For question 1-4 |\n",
    "| 8 | Ex2 | Exercise | For question 5-6 |\n",
    "| 9 | Ex3 | Exercise | For question 7-8 |\n",
    "\n",
    "In order for you to start with the exercise you need to run all cells with the celltype \"Needed\". The very first time you start with this exercise we suggest that you enter each of the needed cells, read the cell instruction and run the cell. It is important that you do this in the correct order, starting from the top and work you way down the cells. Later when you have started to work with the notebook it may be easier to use the command \"Run All\" or \"Run all above\" found in the \"Cell\" dropdown menu.\n",
    "\n",
    "## Writing the report\n",
    "First the report should be written within this notebook. We have prepared the last cell in this notebook for you where you should write the report. The report should contain 4 parts:\n",
    "\n",
    "* Name:\n",
    "* Introduction: A **few** sentences where you give a small introduction of what you have done in the lab.\n",
    "* Answers to questions: For each of the questions provide an answer. It can be short answers or a longer ones depending on the nature of the questions, but try to be effective in your writing.\n",
    "* Conclusion: Summarize your findings in a few sentences.\n",
    "\n",
    "It is important that you write the report in this last cell and **not** after each question! \n",
    "\n",
    "## Last but not least\n",
    "Have fun!\n",
    "\n",
    "---"
   ]
  },
  {
   "cell_type": "markdown",
   "metadata": {},
   "source": [
    "### CellName: Init (#1)\n",
    "### CellType: Needed\n",
    "### Cell instruction: Initializing the libraries\n",
    "\n",
    "In the cell below, we will import needed libraries. \n",
    "\n",
    "Run the cell by entering into the cell and press \"CTRL Enter\"."
   ]
  },
  {
   "cell_type": "code",
   "execution_count": 1,
   "metadata": {},
   "outputs": [],
   "source": [
    "import tensorflow as tf\n",
    "import tensorflow.keras as keras\n",
    "from tensorflow.keras import backend as K\n",
    "from tensorflow.keras import metrics, regularizers, optimizers\n",
    "from tensorflow.keras.layers import Dense, Input, Dropout\n",
    "from tensorflow.keras.models import Model\n",
    "\n",
    "import matplotlib as mpl\n",
    "import matplotlib.pyplot as plt\n",
    "import numpy as np\n",
    "import random as rn\n",
    "import scipy as sp\n",
    "from sklearn.model_selection import train_test_split, KFold\n",
    "from sklearn.metrics import confusion_matrix, log_loss, classification_report\n",
    "import pandas as pd"
   ]
  },
  {
   "cell_type": "markdown",
   "metadata": {},
   "source": [
    "### CellName: MLP (#2)\n",
    "### CellType: Needed\n",
    "### Cell instruction: Defining the MLP model\n",
    "\n",
    "This cell defines the MLP model. There are a number of parameters that is needed to \n",
    "define a model. Here is a list of them: **Note:** They can all be specified when you call\n",
    "this function in later cells. The ones specified in this cell are the default values.\n",
    "\n",
    "* inp_dim: the input dimension (integer)\n",
    "\n",
    "* n_nod: size of the network, eg [5] for a one hidden layer with 5 nodes and [5,3] for a two layer network with 5 and 3 hidden nodes each.\n",
    "\n",
    "* act_fun: the activation function. Most common are\n",
    "    * 'relu'\n",
    "    * 'tanh'\n",
    "        \n",
    "* out_act_fun: the activation function for the output nodes. Most common are\n",
    "    * 'linear'\n",
    "    * 'sigmoid'\n",
    "    * 'softmax'\n",
    "    \n",
    "* opt_method: The error minimization method. Common choices\n",
    "    * 'SGD'\n",
    "    * 'Adam'\n",
    "    \n",
    "* cost_fun: The error function used during training. There are three common ones\n",
    "    * 'mean_squared_error'\n",
    "    * 'binary_crossentropy'\n",
    "    * 'categorical_crossentropy'\n",
    "\n",
    "* lr_rate: The learning rate.\n",
    "\n",
    "* metric: The metric to use besides the loss. Common values\n",
    "    * accuracy\n",
    "    * mse\n",
    "\n",
    "Run the cell by entering into the cell and press \"CTRL Enter\"."
   ]
  },
  {
   "cell_type": "code",
   "execution_count": 2,
   "metadata": {},
   "outputs": [],
   "source": [
    "def mlp(inp_dim,\n",
    "            n_nod,\n",
    "            act_fun = 'tanh',\n",
    "            out_act_fun = 'linear',\n",
    "            opt_method = 'SGD',\n",
    "            cost_fun = 'mse',\n",
    "            lr_rate = 0.01,\n",
    "            metric = 'mse',\n",
    "            num_out = None):\n",
    "    \n",
    "    lays = [inp_dim] + n_nod\n",
    "    \n",
    "    main_input = Input(shape=(inp_dim,), dtype='float32', name='main_input')\n",
    "    \n",
    "    X = main_input\n",
    "    for i, nod in enumerate(n_nod):\n",
    "        X = Dense(nod, \n",
    "                  activation = act_fun)(X)\n",
    "        \n",
    "    output = Dense(1, activation = out_act_fun )(X)\n",
    "    \n",
    "    method = getattr(optimizers, opt_method)\n",
    "    \n",
    "    model =  Model(inputs=[main_input], outputs=[output])\n",
    "    model.compile(optimizer = method(lr = lr_rate),\n",
    "                  loss = cost_fun,\n",
    "                  metrics=[metric])       \n",
    "\n",
    "    return model\n",
    "\n"
   ]
  },
  {
   "cell_type": "markdown",
   "metadata": {},
   "source": [
    "### CellName: Data (#3)\n",
    "### CellType: Needed\n",
    "### Cell instruction: Defining synthetic data sets\n",
    "\n",
    "This cell defines the two synthetic datasets. The last function is used for standardization of the data. \n",
    "\n",
    "Run the cell by entering into the cell and press \"CTRL Enter\"."
   ]
  },
  {
   "cell_type": "code",
   "execution_count": 3,
   "metadata": {},
   "outputs": [],
   "source": [
    "def syn2(N):\n",
    "    \n",
    "    global seed\n",
    "     \n",
    "    x = np.empty(shape=(N,2), dtype = np.float32)  \n",
    "    d = np.empty(shape=(N,), dtype = np.float32) \n",
    "    N1 = int(N/2)\n",
    "\n",
    "    # Positive samples\n",
    "    x[:N1,:] = 0.8 + np.random.normal(loc=.0, scale=1., size=(N1,2))\n",
    "\n",
    "    # Negative samples \n",
    "    x[N1:,:] = -.8 + np.random.normal(loc=.0, scale=1., size=(N-N1,2))\n",
    "    \n",
    "    # Target\n",
    "    d[:N1] = np.ones(shape=(N1,))\n",
    "    d[N1:] = np.zeros(shape=(N-N1,))\n",
    "\n",
    "    return x,d\n",
    "\n",
    "\n",
    "def regr1(N, len = 2, damp=0, v=0):\n",
    "\n",
    "    global seed\n",
    "\n",
    "    dx = 2*len*np.pi /(N-1)\n",
    "    x = np.empty(N, dtype = np.float32) \n",
    "    for i in range(N):\n",
    "        x[i] = i*dx\n",
    "    \n",
    "    noise =  lambda  n : np.random.normal(0,1,n)\n",
    "    if damp == 1:\n",
    "        d = np.cos(x)*np.exp(-x*0.05)\n",
    "    else:\n",
    "        d = np.cos(x)\n",
    "    \n",
    "    std_signal = np.std(d)\n",
    "    d = d + v * std_signal * noise(N)\n",
    "        \n",
    "    return x, d\n",
    "\n",
    "\n",
    "def standard(x):\n",
    "    return np.mean(x, axis=0) , np.std(x, axis=0)\n",
    "    "
   ]
  },
  {
   "cell_type": "markdown",
   "metadata": {},
   "source": [
    "### CellName: PlotData (#4)\n",
    "### CellType: Information\n",
    "### Cell instruction: Plotting the data\n",
    "\n",
    "Here we just generate 100 cases for *syn2* and the *regr1* dataset and plot them. \n",
    "\n",
    "Run the cell by entering into the cell and press \"CTRL Enter\". \n",
    "\n",
    "**Note!** This cell is not needed for the actual exercises, it is just to visualize the two datasets."
   ]
  },
  {
   "cell_type": "code",
   "execution_count": 5,
   "metadata": {
    "scrolled": false
   },
   "outputs": [
    {
     "data": {
      "text/plain": [
       "<matplotlib.collections.PathCollection at 0x2429c1da670>"
      ]
     },
     "execution_count": 5,
     "metadata": {},
     "output_type": "execute_result"
    },
    {
     "data": {
      "image/png": "[encoded data removed]",
      "text/plain": [
       "<Figure size 432x288 with 1 Axes>"
      ]
     },
     "metadata": {
      "needs_background": "light"
     },
     "output_type": "display_data"
    },
    {
     "data": {
      "image/png": "[encoded data removed]",
      "text/plain": [
       "<Figure size 432x288 with 1 Axes>"
      ]
     },
     "metadata": {
      "needs_background": "light"
     },
     "output_type": "display_data"
    },
    {
     "data": {
      "image/png": "[encoded data removed]",
      "text/plain": [
       "<Figure size 432x288 with 1 Axes>"
      ]
     },
     "metadata": {
      "needs_background": "light"
     },
     "output_type": "display_data"
    }
   ],
   "source": [
    "# seed = 0 means random, seed > 0 means fixed\n",
    "seed = 0\n",
    "np.random.seed(seed) if seed else None\n",
    "\n",
    "x,d = syn2(100)\n",
    "plt.figure(1)\n",
    "plt.scatter(x[:,0],x[:,1], c=d)\n",
    "\n",
    "# Regression, one period, no noise\n",
    "x,d = regr1(100, 2, 0, 0)\n",
    "plt.figure(2)\n",
    "plt.scatter(x,d)\n",
    "\n",
    "# Regression, 1.5 period, exponential damping, some noise\n",
    "x,d = regr1(100, 3, 1, 0.2)\n",
    "plt.figure(3)\n",
    "plt.scatter(x,d)\n"
   ]
  },
  {
   "cell_type": "markdown",
   "metadata": {},
   "source": [
    "### CellName: Statistics (#5)\n",
    "### CellType: Needed\n",
    "### Cell instruction: Present result for both classification and regression problems\n",
    "\n",
    "This cell defines two functions that we are going to call using a trained model to calculate both error and performance measures. \n",
    "\n",
    "Run the cell by entering into the cell and press \"CTRL Enter\"."
   ]
  },
  {
   "cell_type": "code",
   "execution_count": 4,
   "metadata": {},
   "outputs": [],
   "source": [
    "def stats_class(x = None, y = None, label = 'Training', modl = None):\n",
    "    \"\"\"\n",
    "    input :  \n",
    "             x = input\n",
    "             y = output\n",
    "             label = \"Provided text string\"\n",
    "             modl = the model\n",
    "             \n",
    "    output : \n",
    "             accuracy = fraction of correctly classified cases\n",
    "             loss = typically the cross-entropy error\n",
    "    \"\"\"\n",
    "    \n",
    "    def binary(y1):\n",
    "        y1[y1>.5] = 1.\n",
    "        y1[y1<= .5] = 0.        \n",
    "        return y1\n",
    "\n",
    "    y_pr = modl.predict(x, batch_size = x.shape[0], verbose=0).reshape(y.shape)\n",
    "                \n",
    "    nof_p, tp, nof_n, tn = [np.count_nonzero(k) for k in [y==1, y_pr[y==1.] > 0.5, y==0, y_pr[y==0.]<= 0.5]]\n",
    "    \n",
    "    acc = (tp + tn) / (len(y))\n",
    "    loss = modl.evaluate(x, y , batch_size =  x.shape[0], verbose=0)\n",
    "                \n",
    "    A = ['Accuracy', 'CEE']\n",
    "    B = [acc, loss[0]]\n",
    "    \n",
    "    print('\\n','#'*10,'STATISTICS for {} Data'.format(label), '#'*10, '\\n')\n",
    "    for i in range(len(A)):\n",
    "        print('{:15} {:.4f}'.format(A[i], B[i]))\n",
    "\n",
    "    return print('\\n','#'*50)\n",
    "\n",
    "def stats_reg(d = None, d_pred = None, label = 'Training', estimat = None):\n",
    "    \n",
    "    A = ['MSE']\n",
    "    \n",
    "    if label.lower() in ['training', 'trn', 'train']:\n",
    "        mse = estimat.history['loss'][-1]\n",
    "    else:\n",
    "        mse = estimat.history['val_loss'][-1] \n",
    "\n",
    "    B = [mse]\n",
    "    \n",
    "    print('\\n','#'*10,'STATISTICS for {} Data'.format(label), '#'*10, '\\n')\n",
    "    for i in range(len(A)):\n",
    "        print('{:15} {:.10f}'.format(A[i], B[i]))\n",
    "    print('\\n','#'*50)\n",
    "    return B\n"
   ]
  },
  {
   "cell_type": "markdown",
   "metadata": {},
   "source": [
    "### CellName: Boundary (#6)\n",
    "### CellType: Needed\n",
    "### Cell Instruction: Decision boundary\n",
    "\n",
    "This cell defines the function to plot the decision boundary for a 2D input binary MLP classifier. In short, this function defines a grid covering the input data. Each grid point is then used as an input to the trained MLP and to compute an output. If the output is close to 0.5 it is marked as the boundary. \n",
    "\n",
    "Run the cell by entering into the cell and press \"CTRL Enter\"."
   ]
  },
  {
   "cell_type": "code",
   "execution_count": 5,
   "metadata": {},
   "outputs": [],
   "source": [
    "def decision_b(X, Y1, model ):\n",
    "    \n",
    "    x_min, x_max = X[:, 0].min() - .5, X[:, 0].max() + .5\n",
    "    y_min, y_max = X[:, 1].min() - .5, X[:, 1].max() + .5\n",
    "    # grid stepsize\n",
    "    h = 0.025\n",
    "\n",
    "    xx, yy = np.meshgrid(np.arange(x_min, x_max, h), np.arange(y_min, y_max, h))\n",
    "    Z = model.predict(np.c_[xx.ravel(), yy.ravel()])\n",
    "    Z = Z.reshape(xx.shape)\n",
    "    \n",
    "    Z[Z>.5] = 1\n",
    "    Z[Z<= .5] = 0\n",
    "\n",
    "    Y_pr = model.predict(X, batch_size = X.shape[0], verbose=0).reshape(Y1.shape)\n",
    "  \n",
    "    Y = np.copy(Y1)\n",
    "    Y_pr[Y_pr>.5] = 1\n",
    "    Y_pr[Y_pr<= .5] = 0\n",
    "    Y[(Y!=Y_pr) & (Y==0)] = 2\n",
    "    Y[(Y!=Y_pr) & (Y==1)] = 3\n",
    "    \n",
    "    \n",
    "    plt.figure()\n",
    "    #plt.contourf(xx, yy, Z, cmap=plt.cm.PRGn, alpha = .9) \n",
    "    plt.contour(xx, yy, Z, cmap=plt.cm.Paired)\n",
    "    \n",
    "    \n",
    "    plt.scatter(X[:, 0][Y==1], X[:, 1][Y==1], marker='+', c='k')\n",
    "    plt.scatter(X[:, 0][Y==0], X[:, 1][Y==0], marker='o', c='k')\n",
    "       \n",
    "    plt.scatter(X[:, 0][Y==3], X[:, 1][Y==3], marker = '+', c='r')   \n",
    "    plt.scatter(X[:, 0][Y==2], X[:, 1][Y==2], marker = 'o', c='r')\n",
    "    \n",
    "    \n",
    "    plt.ylabel('x2')\n",
    "    plt.xlabel('x1')\n",
    "    plt.show()\n"
   ]
  },
  {
   "cell_type": "markdown",
   "metadata": {},
   "source": [
    "---\n",
    "End of \"Needed\" and \"Information\" cells. Below are the cells for the actual exercise.\n",
    "\n",
    "---"
   ]
  },
  {
   "cell_type": "markdown",
   "metadata": {},
   "source": [
    "### CellName: Ex1 (#7)\n",
    "### CellType: Exercise\n",
    "### Cell instruction: Instruction for question 1-4\n",
    "The cell below should be used for questions 1-4.\n",
    "\n",
    "The following questions will look at three essential parameters that controls the training process of an MLP. By training process we mean here the minimization of the given loss function. The parameters are the *learning rate*, *batch size* and *number of epochs* (or epochs for short). The task is to train an MLP that can fit the *regr1* dataset, i.e. a regression problem. Given the nature of this regression problem we know that we will need more than one hidden node. From experience we know that four hidden nodes are enough to accurately fit the training data, hence we will use four hidden nodes for this first exercise. \n",
    "\n",
    "The exercise will study how the learningrate, batchsize and epochs influences the training. A successful training means here when the networks has reached a low loss (< 0.01) and visually have fitted the data accurately. In this exercise we do not care about possible overfitting, only about the minimization of the loss function, we therefore do not have a validation dataset.\n",
    "\n",
    "#### Question 1\n",
    "For the first question you can simply run the cell below. It will load 50 samples from the *regr1* dataset (no noise added). The network has 4 hidden nodes in a single hidden layer, *tanh* activation function, linear output activation function, *stochastic gradient descent* as minimization method, MSE loss function, and a learning rate of 0.05.\n",
    "It will train for 4000 epochs using a batchsize of 50, meaning that we efficiently are using ordinary gradient descent learning. Run this cell five times. **(a) Do you see the same loss vs epoch behavior each time your run?** If no **why?**. **(b) Do you observe that training fails, i.e. do not reach low loss, during these five runs?** \n",
    "\n",
    "#### Question 2\n",
    "You will now study what happens when you train with different learning rates. Train with different learning rates in the range 0.001 to 0.5. Test at least 5 different learning rates in that range and for each learning rate train the network three times and record the average MSE value over these three runs. **Discuss your findings**.\n",
    "\n",
    "**Note:** You should keep the same settings as for Q1, only vary the learning rate. \n",
    "\n",
    "#### Question 3\n",
    "We now (hopefully) have discovered that the size of the learning rate have an influence of the efficiency of the minimization of the loss function. We will now look at what happens when we use *stochastic gradient descent*, meaning that we will have a batch size that is smaller the the size of the training data. Use a fixed learning rate of 0.05, but test different batch sizes in the range 1 to 50. Again train three different networks for each batch size, but this time record if the training was successful (i.e. MSE < 0.01) and approximately after how many epochs the good solution was found. **Discuss your findings**.\n",
    "\n",
    "#### Question 4\n",
    "Now we want to vary both the learning rate and the batch size to find an optimal setting for training this network. Your task is to find a combination of learning rate and batch size that will find a good solution within 1000 epochs. We always have to remember that two runs with identical hyper parameters (e.g. learning rate, batch size etc) will result in different final results. Your set of parameters should *most* for the times result in a good solution within 1000 epochs. **Present your best combination of learning rate and batch size**.\n"
   ]
  },
  {
   "cell_type": "markdown",
   "metadata": {},
   "source": [
    "| Batch Size | Run1 (avg MSE) | Run2 (avg MSE) | Run3 (avg MSE) |\n",
    "| :--------- | :------------- | :------------- | :------------- |\n",
    "| 1          | 0.5541425148   | 0.5261060596   | 0.5504816771   |\n",
    "| 5          | 0.5144785046   | 0.2821144312   | 0.0829201787   |\n",
    "| 10         | 0.2498411480   | 0.0252238487   | 0.0145633773   |\n",
    "| 15         | 0.2729894078   | 0.0169144819   | 0.0132062026   |\n",
    "| 25         | 0.4341872533   | 0.1232543522   | 0.0142205078   |\n",
    "| 40         | 0.4851879278   | 0.4039498617   | 0.0279739697   |\n"
   ]
  },
  {
   "cell_type": "markdown",
   "metadata": {},
   "source": [
    "2: \n",
    "0.001: 0.5077001452, 0.5081002712, 0.5088223815\n",
    "0.005: 0.4969640374, 0.4825391471, 0.4944707751\n",
    "0.01:  0.4363593161, 0.4839526415, 0.4899910986\n",
    "0.05:  0.0337726027, 0.0046558571, 0.0018283064\n",
    "0.5:   nan, nan, nan\n",
    "\n",
    "0.001: 0.5097529888 0.5037324429 0.5074284077 => 0.5069712798\n",
    "0.126: 0.0009231766 0.0016810214 0.0016328937 => 0.0014123639\n",
    "0.251: 0.0006240488 0.0009689369 0.0005541130 => 0.0007156995666666666\n",
    "0.375: 0.0055911844 0.0054916013 0.0056896238 => 0.0055908031666666675\n",
    "0.500: nan, nan, nan => nan\n",
    "\n",
    "https://en.wikipedia.org/wiki/Stochastic_gradient_descent\n",
    "____________\n",
    "3: \n",
    "networks: \n",
    "1:  0.0002577216, 0.5553430319, 0.0001902054\n",
    "10: 0.0009674655, 0.0007033114, 0.0007824568\n",
    "25: 0.0016803128, 0.0013448080, 0.0013555187\n",
    "40: 0.2494482249, 0.0016109500, 0.0002189822\n",
    "___________\n",
    "4: \n",
    "candidates: \n",
    "lr = 0.15 bs = 40\n",
    "lr = 0.3 bs = 30\n",
    "lr = 0.25 bs = 30"
   ]
  },
  {
   "cell_type": "code",
   "execution_count": 29,
   "metadata": {},
   "outputs": [
    {
     "name": "stdout",
     "output_type": "stream",
     "text": [
      "\n",
      " ########## STATISTICS for Training Data ########## \n",
      "\n",
      "MSE             0.0081840372\n",
      "\n",
      " ##################################################\n",
      "the average mse is 0.008184037171304226\n"
     ]
    },
    {
     "data": {
      "image/png": "[encoded data removed]",
      "text/plain": [
       "<Figure size 432x288 with 1 Axes>"
      ]
     },
     "metadata": {
      "needs_background": "light"
     },
     "output_type": "display_data"
    },
    {
     "data": {
      "image/png": "[encoded data removed]",
      "text/plain": [
       "<Figure size 432x288 with 1 Axes>"
      ]
     },
     "metadata": {
      "needs_background": "light"
     },
     "output_type": "display_data"
    },
    {
     "name": "stdout",
     "output_type": "stream",
     "text": [
      "Wall time: 1min 9s\n"
     ]
    }
   ],
   "source": [
    "%%time\n",
    "ms = []\n",
    "for _ in range(1):\n",
    "    # seed = 0 means random, seed > 0 means fixed\n",
    "    seed = 0\n",
    "    np.random.seed(seed) if seed else None\n",
    "\n",
    "    # Generate training data\n",
    "    x_trn, d_trn = regr1(50, 2.5, 0, 0.0)\n",
    "    #x_trn, d_trn = regr1(75, 5, 1, 0.0)\n",
    "\n",
    "    # Standardization of inputs\n",
    "    mu, std = standard(x_trn)\n",
    "    x_trn = (x_trn - mu)/std\n",
    "\n",
    "    # Define the network, cost function and minimization method\n",
    "    INPUT2 = {'inp_dim': 1,         \n",
    "         'n_nod': [4],                   # number of nodes in hidden layer\n",
    "         'act_fun': 'tanh',              # activation functions for the hidden layer\n",
    "         'out_act_fun': 'linear',        # output activation function\n",
    "         'opt_method': 'SGD',            # minimization method\n",
    "         'cost_fun': 'mse',              # error function\n",
    "         'lr_rate': 0.05                 # learningrate\n",
    "        }        \n",
    "\n",
    "    # Get the model\n",
    "    model_ex2 = mlp(**INPUT2)\n",
    "\n",
    "    # Print a summary of the model\n",
    "    # model_ex2.summary()\n",
    "\n",
    "    # Train the model\n",
    "    estimator_ex2 = model_ex2.fit(x_trn, d_trn,\n",
    "                              epochs = 15000,      \n",
    "                              batch_size=40,\n",
    "                              verbose = 0)\n",
    "\n",
    "    # Call the stat_reg to get MSE and correlation coefficiant for the scatter plot\n",
    "    pred_trn = model_ex2.predict(x_trn).reshape(d_trn.shape)\n",
    "    m = stats_reg(d_trn, pred_trn, 'Training', estimator_ex2)\n",
    "    ms.append(m[0])\n",
    "print(f\"the average mse is {sum(ms)/len(ms)}\")\n",
    "\n",
    "# Training history\n",
    "plt.figure()\n",
    "plt.ylabel('Loss / MSE')\n",
    "plt.xlabel('Epoch')\n",
    "for k in estimator_ex2.history.keys():\n",
    "    plt.plot(estimator_ex2.history[k], label = k) \n",
    "plt.legend(loc='best')\n",
    "plt.show()\n",
    "\n",
    "# Call the stat_reg to get MSE and correlation coefficiant for the scatter plot\n",
    "# pred_trn = model_ex2.predict(x_trn).reshape(d_trn.shape)\n",
    "# stats_reg(d_trn, pred_trn, 'Training', estimator_ex2)\n",
    "\n",
    "# Plot the result\n",
    "d_pred = model_ex2.predict(x_trn)\n",
    "plt.figure()\n",
    "plt.ylabel('Prediction / Target')\n",
    "plt.xlabel('Input')\n",
    "plt.scatter(x_trn, d_trn, label='Target')\n",
    "plt.scatter(x_trn, d_pred, label='Prediction')\n",
    "plt.title('Prediction vs Target')\n",
    "plt.legend(loc='best')\n",
    "plt.show()\n"
   ]
  },
  {
   "cell_type": "markdown",
   "metadata": {},
   "source": [
    "#### CellName: Ex2 (#8)\n",
    "### CellType: Exercise\n",
    "### Cell instruction: Instruction for question 5-6\n",
    "The cell below should be used for questions 5-6.\n",
    "\n",
    "We have now seen that both learning rate and batch size influence the training efficiency. But there are other aspects as well. The amount of weights in the network can also influence how long time we need to train, and of course if the problem itself is complex or not. The following two questions will try to highlight this.\n",
    "\n",
    "#### Question 5\n",
    "The example below will load a slightly more complex *regr1* problem (an additional quarter of a period). We will use 10 hidden nodes for this problem. Use your optimal set of learning rate and batch size as found in Q4 and train the network below. **Compare the number of epochs needed to reach a good solution with that of Q4**.\n",
    "\n",
    "#### Question 6\n",
    "This question is a bit more challenging. Use the following line to load the *regr1* data set:\n",
    "\n",
    "`x_trn, d_trn = regr1(75, 5, 1, 0.0)`\n",
    "\n",
    "This will create an even more challenging regression task that may need an even larger network. Your task is to find a set of hyper parameters (learning rate, batch size, epochs, 'size of the network') that result in a good solution. You can use more than one hidden layer for this task (if you want). **Present your set of good hyperparameters**. \n",
    "\n",
    "**Note:** If you cannot solve this task in *reasonable* time, present your best attempt!\n"
   ]
  },
  {
   "cell_type": "markdown",
   "metadata": {},
   "source": [
    "5: \n",
    "lr = 0.25 bs = 30\n",
    "about 30000-35000 epochs for a good solution, 1000 epochs for a good solution in Q4.\n",
    "___________\n",
    "6: \n",
    "Ta sälls\n"
   ]
  },
  {
   "cell_type": "code",
   "execution_count": 63,
   "metadata": {},
   "outputs": [
    {
     "name": "stdout",
     "output_type": "stream",
     "text": [
      "Model: \"model_55\"\n",
      "_________________________________________________________________\n",
      "Layer (type)                 Output Shape              Param #   \n",
      "=================================================================\n",
      "main_input (InputLayer)      [(None, 1)]               0         \n",
      "_________________________________________________________________\n",
      "dense_115 (Dense)            (None, 5)                 10        \n",
      "_________________________________________________________________\n",
      "dense_116 (Dense)            (None, 5)                 30        \n",
      "_________________________________________________________________\n",
      "dense_117 (Dense)            (None, 5)                 30        \n",
      "_________________________________________________________________\n",
      "dense_118 (Dense)            (None, 5)                 30        \n",
      "_________________________________________________________________\n",
      "dense_119 (Dense)            (None, 5)                 30        \n",
      "_________________________________________________________________\n",
      "dense_120 (Dense)            (None, 5)                 30        \n",
      "_________________________________________________________________\n",
      "dense_121 (Dense)            (None, 1)                 6         \n",
      "=================================================================\n",
      "Total params: 166\n",
      "Trainable params: 166\n",
      "Non-trainable params: 0\n",
      "_________________________________________________________________\n"
     ]
    },
    {
     "data": {
      "image/png": "[encoded data removed]",
      "text/plain": [
       "<Figure size 432x288 with 1 Axes>"
      ]
     },
     "metadata": {
      "needs_background": "light"
     },
     "output_type": "display_data"
    },
    {
     "name": "stdout",
     "output_type": "stream",
     "text": [
      "\n",
      " ########## STATISTICS for Training Data ########## \n",
      "\n",
      "MSE             0.0104197217\n",
      "\n",
      " ##################################################\n"
     ]
    },
    {
     "data": {
      "image/png": "[encoded data removed]",
      "text/plain": [
       "<Figure size 432x288 with 1 Axes>"
      ]
     },
     "metadata": {
      "needs_background": "light"
     },
     "output_type": "display_data"
    },
    {
     "name": "stdout",
     "output_type": "stream",
     "text": [
      "Wall time: 1min 12s\n"
     ]
    }
   ],
   "source": [
    "%%time\n",
    "# seed = 0 means random, seed > 0 means fixed\n",
    "seed = 0\n",
    "np.random.seed(seed) if seed else None\n",
    "\n",
    "# Generate training data\n",
    "#x_trn, d_trn = regr1(50, 2.5, 0, 0.0)\n",
    "x_trn, d_trn = regr1(75, 5, 1, 0.0)\n",
    "\n",
    "# Standardization of inputs\n",
    "mu, std = standard(x_trn)\n",
    "x_trn = (x_trn - mu)/std\n",
    "\n",
    "# Define the network, cost function and minimization method\n",
    "INPUT2 = {'inp_dim': 1,         \n",
    "         'n_nod': [5, 5, 5, 5, 5, 5],                   # number of nodes in hidden layer\n",
    "         'act_fun': 'tanh',              # activation functions for the hidden layer\n",
    "         'out_act_fun': 'linear',        # output activation function\n",
    "         'opt_method': 'SGD',            # minimization method\n",
    "         'cost_fun': 'mse',              # error function\n",
    "         'lr_rate': 0.25                # learningrate\n",
    "        }        \n",
    "\n",
    "# Get the model\n",
    "model_ex2 = mlp(**INPUT2)\n",
    "\n",
    "# Print a summary of the model\n",
    "model_ex2.summary()\n",
    "\n",
    "# Train the model\n",
    "estimator_ex2 = model_ex2.fit(x_trn, d_trn,\n",
    "                              epochs = 14000,      \n",
    "                              batch_size=38,\n",
    "                              verbose = 0)\n",
    "\n",
    "\n",
    "# Training history\n",
    "plt.figure()\n",
    "plt.ylabel('Loss / MSE')\n",
    "plt.xlabel('Epoch')\n",
    "for k in estimator_ex2.history.keys():\n",
    "    plt.plot(estimator_ex2.history[k], label = k) \n",
    "plt.legend(loc='best')\n",
    "plt.show()\n",
    "\n",
    "# Call the stat_reg to get MSE and correlation coefficiant for the scatter plot\n",
    "pred_trn = model_ex2.predict(x_trn).reshape(d_trn.shape)\n",
    "stats_reg(d_trn, pred_trn, 'Training', estimator_ex2)\n",
    "\n",
    "# Plot the result\n",
    "d_pred = model_ex2.predict(x_trn)\n",
    "plt.figure()\n",
    "plt.ylabel('Prediction / Target')\n",
    "plt.xlabel('Input')\n",
    "plt.scatter(x_trn, d_trn, label='Target')\n",
    "plt.scatter(x_trn, d_pred, label='Prediction')\n",
    "plt.title('Prediction vs Target')\n",
    "plt.legend(loc='best')\n",
    "plt.show()\n"
   ]
  },
  {
   "cell_type": "markdown",
   "metadata": {},
   "source": [
    "### CellName: Ex3 (#9)\n",
    "### CellType: Exercise\n",
    "### Cell instruction: Instruction for question 7\n",
    "The cell below should be used for questions 7.\n",
    "\n",
    "We will now look at a classification problem, namely the classification problem defined by the *syn1* dataset.\n",
    "The cell below defines a single hidden node MLP. With this network you can only implement a linear decision boundary. Run the cell below to look at the resulting boundary that the MLP learns. The training accuracy is around 87-93%, because the data is generated randomly each time you run the code. \n",
    "\n",
    "#### Question 7\n",
    "Your task is now to reach a larger accuracy by fitting a model with more hidden nodes (or more hidden layers). \n",
    "Your aim is to reach a training accuracy > 95%. To do that you need to tune the learning rate, batch size, epochs and the size of your MLP. **Present your set of hyper parameters that reach > 95% accuracy**\n",
    "\n",
    "**Note**: To always generate exactly the same dataset each time you run the code you can set the *seed* to a value > 0. \n",
    "\n",
    "#### Question 8\n",
    "We have so far only used stochastic gradient descent (SGD), but we know that there exists modifications of SGD that are more efficient, e.g. Adam. **Try the Adam optimizer for Q7, and compare (qualitatively) the efficiency in terms of number of epochs needed.\n",
    "\n",
    "**Info**: For Adam, it is enough for us to use the default values *beta1* = 0.9 and *beta2* = 0.999 \n",
    "\n",
    "#### Bonus tasks\n",
    "The bonus tasks are provided if you have extra time and want to continue to explore methods that can further enhance the minimization of the loss function. **These tasks are not required for the course and do not influence any grading**. \n",
    "\n",
    "The tasks listed below also mean that you have to change the code in code cell *MLP* (#2). There will be links to appropriate documentation below.\n",
    "\n",
    "* Go back to Q7 and add use a momentum add-on to SGD. **Does momentum help?** (See documentation [here](https://keras.io/api/optimizers/sgd/))\n",
    "* It is common to also introduce a mechanism that can lower the learning rate as we train. If we are using stochastic gradient descent the mini-batch gradients will never be zero, meaning that we will always make some small weight updates. Keres have methods that can lower the learning rate as we train (see [here](https://keras.io/api/optimizers/learning_rate_schedules/exponential_decay/)). Again go back to Q7 and now use an exponential decaying learning rate. **Does it help?**  \n",
    "\n"
   ]
  },
  {
   "cell_type": "markdown",
   "metadata": {},
   "source": [
    "7: \n",
    "mlp: 5,10,8,5\n",
    "lr: 0.2 \n",
    "epochs: 1700\n",
    "batch_size: 80\n",
    "_______________\n",
    "8: \n"
   ]
  },
  {
   "cell_type": "code",
   "execution_count": 26,
   "metadata": {
    "scrolled": false
   },
   "outputs": [
    {
     "name": "stdout",
     "output_type": "stream",
     "text": [
      "Model: \"model_19\"\n",
      "_________________________________________________________________\n",
      "Layer (type)                 Output Shape              Param #   \n",
      "=================================================================\n",
      "main_input (InputLayer)      [(None, 2)]               0         \n",
      "_________________________________________________________________\n",
      "dense_95 (Dense)             (None, 5)                 15        \n",
      "_________________________________________________________________\n",
      "dense_96 (Dense)             (None, 10)                60        \n",
      "_________________________________________________________________\n",
      "dense_97 (Dense)             (None, 8)                 88        \n",
      "_________________________________________________________________\n",
      "dense_98 (Dense)             (None, 5)                 45        \n",
      "_________________________________________________________________\n",
      "dense_99 (Dense)             (None, 1)                 6         \n",
      "=================================================================\n",
      "Total params: 214\n",
      "Trainable params: 214\n",
      "Non-trainable params: 0\n",
      "_________________________________________________________________\n",
      "\n",
      " ########## STATISTICS for Training Data ########## \n",
      "\n",
      "Accuracy        0.8200\n",
      "CEE             0.4458\n",
      "\n",
      " ##################################################\n"
     ]
    },
    {
     "data": {
      "image/png": "[encoded data removed]",
      "text/plain": [
       "<Figure size 432x288 with 1 Axes>"
      ]
     },
     "metadata": {
      "needs_background": "light"
     },
     "output_type": "display_data"
    },
    {
     "data": {
      "image/png": "[encoded data removed]",
      "text/plain": [
       "<Figure size 432x288 with 1 Axes>"
      ]
     },
     "metadata": {
      "needs_background": "light"
     },
     "output_type": "display_data"
    },
    {
     "name": "stdout",
     "output_type": "stream",
     "text": [
      "Wall time: 10.4 s\n"
     ]
    }
   ],
   "source": [
    "%%time\n",
    "\n",
    "# seed = 0 means random, seed > 0 means fixed\n",
    "seed = 10\n",
    "np.random.seed(seed) if seed else None\n",
    "    \n",
    "# Generate training data\n",
    "x_trn, d_trn = syn2(100)\n",
    "\n",
    "# General standardization of input data \n",
    "mu, std = standard(x_trn)\n",
    "x_trn = (x_trn - mu)/std\n",
    "\n",
    "# Define the network, cost function and minimization method\n",
    "INPUT3 = {'inp_dim': x_trn.shape[1],         \n",
    "         'n_nod': [5,10,8,5],                      # number of nodes in hidden layer\n",
    "         'act_fun': 'tanh',                 # activation functions for the hidden layer\n",
    "         'out_act_fun': 'sigmoid',          # output activation function\n",
    "         'opt_method': 'Adam',               # minimization method\n",
    "         'cost_fun': 'binary_crossentropy', # error function\n",
    "         'lr_rate': 0.2,                    # learning rate\n",
    "         'metric': 'accuracy'               # metric for evaluation\n",
    "        } \n",
    "\n",
    "# Get the model\n",
    "model_ex3 = mlp(**INPUT3)\n",
    "\n",
    "# Print a summary of the model\n",
    "model_ex3.summary()\n",
    "\n",
    "# Train the model\n",
    "estimator_ex3= model_ex3.fit(x_trn, d_trn,\n",
    "                      epochs = 60,                \n",
    "                      batch_size=80,                   \n",
    "                      verbose = 0)\n",
    "\n",
    "# Call the stats function to print out statistics for the training\n",
    "stats_class(x_trn, d_trn, 'Training', model_ex3)\n",
    "\n",
    "# Training history\n",
    "plt.figure()\n",
    "plt.ylabel('Loss / Accuracy')\n",
    "plt.xlabel('Epoch')\n",
    "for k in estimator_ex3.history.keys():\n",
    "    plt.plot(estimator_ex3.history[k], label = k) \n",
    "plt.legend(loc='best')\n",
    "plt.show()\n",
    "\n",
    "# Show the decision boundary\n",
    "decision_b(x_trn, d_trn, model_ex3)\n"
   ]
  },
  {
   "cell_type": "code",
   "execution_count": null,
   "metadata": {},
   "outputs": [],
   "source": [
    "Q, done: 5 8"
   ]
  },
  {
   "cell_type": "markdown",
   "metadata": {},
   "source": [
    "Introduction: A few sentences where you give a small introduction of what you have done in the lab.\n",
    "\n",
    "Answers to questions: For each of the questions provide an answer. It can be short answers or a longer ones depending on the nature of the questions, but try to be effective in your writing.\n",
    "\n",
    "Conclusion: Summarize your findings in a few sentences.\n",
    "\n",
    "1. \n",
    "(a) Do you see the same loss vs epoch behavior each time your run? If no why?. \n",
    "(b) Do you observe that training fails, i.e. do not reach low loss, during these five runs?"
   ]
  },
  {
   "cell_type": "markdown",
   "metadata": {},
   "source": [
    "# The report!\n",
    "\n",
    "### Name: \n",
    "Joel Bäcker (jo4383ba-s)\n",
    "\n",
    "### Introduction\n",
    "During this lab we explore how different hyper parameters effect the output of an MLP while using two different minimization methods (SGD and Adam). We will also take a look how the number of weights will effect the time it takes to train a networks. The hyper parameters in focus this lab were batch size, learning rate and number of epochs. \n",
    "\n",
    "### Answers to questions\n",
    "1.\n",
    "\n",
    "(a) No, each time the code is ran different results are given. \n",
    "\n",
    "When the batch size is equal to the size of the of the data set (i.e. no subset of SGD) and thus the weights are randomly distributed. Therefore each run yield a different starting \"position\" which a good output depends on.\n",
    "\n",
    "(b) During the five runs the training fails once, i.e. training data do not reach below 0.01.\n",
    "\n",
    "2. The result of the different learning rates is seen below\n",
    "\n",
    "| Learning rate | Run 1   | Run 2   | Run 3   | Average |\n",
    "| :------------ | :------ | :------ | :------ | :------ | \n",
    "| 0.001         | 0.50975 | 0.50373 | 0.50742 | 0.50697 |\n",
    "| 0.126         | 0.00092 | 0.00168 | 0.00163 | 0.00141 |\n",
    "| 0.251         | 0.00062 | 0.00096 | 0.00055 | 0.00071 |\n",
    "| 0.375         | 0.00559 | 0.00549 | 0.00568 | 0.00559 |\n",
    "| 0.500         | nan     | nan     | nan     | nan     |\n",
    "\n",
    "The best learning rate for this problem seems to be around 0.25. \n",
    "\n",
    "It seems to be that the lowest learning rate of 0.001 is too slow to find a good solution, while the highest of 0.5 breaks down. This might be because of some sort of numerical error where the Gradient Decent never converges.  \n",
    "\n",
    "3. The tests of different batch sizes is seen below. The first run is 5000 epochs, second 10000 and the third 15000, each run takes an average of five tries.\n",
    "\n",
    "| Batch Size | Run1 (avg MSE) | Run2 (avg MSE) | Run3 (avg MSE) |\n",
    "| :--------- | :------------- | :------------- | :------------- |\n",
    "| 1          | 0.5541425148   | 0.5261060596   | 0.5504816771   |\n",
    "| 5          | 0.5144785046   | 0.2821144312   | 0.0829201787   |\n",
    "| 10         | 0.2498411480   | 0.0252238487   | 0.0145633773   |\n",
    "| 15         | 0.2729894078   | 0.0169144819   | 0.0132062026   |\n",
    "| 25         | 0.4341872533   | 0.1232543522   | 0.0142205078   |\n",
    "| 40         | 0.4851879278   | 0.4039498617   | 0.0279739697   |\n",
    "\n",
    "When the batch size is to small there seems to never approach a sadifactory solution, it get stuck at ~0.5. For the larger batch sizes more epochs gives a better solution.\n",
    "    \n",
    "4. Hard to find good a perfect solution, the best found was:\n",
    "\n",
    "```\n",
    "lr = 0.25\n",
    "bs = 30\n",
    "```\n",
    "\n",
    "For this question the size of the data set were 50 and the optimal batch size 30, i.e. the batch size does not evenly divide the size of the training data. When such a thing occur the last batch will not be of the same size as the other ones. In this example we have a data size of 50 which means that only one iteration of size 30 is possible the second iteration will only have a batch of size 20. This is also applicable to question 6 and 7 with their respective data and batch size.\n",
    "\n",
    "5. Using the same values as above it were found that the epochs needed were much higher than that in Q4.\n",
    "In Q4 the number of epochs needed were around 30000-35000 while in Q4 1000 epochs used to find a solution.\n",
    "\n",
    "6. The set of parameters the was found was:\n",
    "```\n",
    "mlp: [5, 5, 5, 5, 5, 5]\n",
    "lr: 0.25\n",
    "epochs: 15000\n",
    "batch_size: 38\n",
    "```\n",
    "Which results in a adequate result for the exercise.\n",
    "\n",
    "7. To reach a accuracy of above 95% the following parameters were used\n",
    "```\n",
    "mlp: [5,10,8,5]\n",
    "lr: 0.2\n",
    "epochs: 1700\n",
    "batch_size: 80\n",
    "```\n",
    "\n",
    "8. While using the minimizing method Adam, it were very hard to get the same level of accuracy.\n",
    "But a similar score were yielded with the number of epochs equal to 60.\n",
    "\n",
    "\n",
    "### Summary\n",
    "During this lab we explore how different hyper parameters effect the output of an MLP while using two different minimization methods. We will also take a look how the number of weights will effect the time it takes to train a networks. The hyper parameters in focus this lab were batch size, learning rate and number of epochs.\n",
    "\n",
    "To summarize the lab, in the beginning we found that the optimal learning rate is hard to find and is dependent on the other hyper parameters in the network. It was also found that both a too small or too large learning rate is bad for the network cause when those to extremes were tried either a bad solution were reached or none at all.\n",
    "\n",
    "During the lab it were discussed what happens when the batch size of a network did not evenly divide the data size. When this occurs the last iteration will simply have a smaller batch size than the other.\n",
    "\n",
    "When training an MLP on the more complex data set *reg1*, the effect of a large amount of weight were found. When many nodes are present in the longer it takes for the network to reach a good solution. However it was also found that we can increase the accuracy of the system by adding more nodes to the network.\n",
    "\n"
   ]
  },
  {
   "cell_type": "code",
   "execution_count": null,
   "metadata": {},
   "outputs": [],
   "source": []
  }
 ],
 "metadata": {
  "kernelspec": {
   "display_name": "Python 3 (ipykernel)",
   "language": "python",
   "name": "python3"
  },
  "language_info": {
   "codemirror_mode": {
    "name": "ipython",
    "version": 3
   },
   "file_extension": ".py",
   "mimetype": "text/x-python",
   "name": "python",
   "nbconvert_exporter": "python",
   "pygments_lexer": "ipython3",
   "version": "3.9.9"
  },
  "toc": {
   "base_numbering": 1,
   "nav_menu": {
    "height": "530px",
    "width": "356.167px"
   },
   "number_sections": true,
   "sideBar": true,
   "skip_h1_title": false,
   "title_cell": "Table of Contents",
   "title_sidebar": "Contents",
   "toc_cell": false,
   "toc_position": {},
   "toc_section_display": true,
   "toc_window_display": false
  }
 },
 "nbformat": 4,
 "nbformat_minor": 2
}
